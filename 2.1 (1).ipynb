{
 "cells": [
  {
   "cell_type": "code",
   "execution_count": null,
   "id": "c7aa5dc1-11e7-4e14-b6ca-75ce8630faf9",
   "metadata": {},
   "outputs": [],
   "source": [
    "# code 1\n"
   ]
  },
  {
   "cell_type": "code",
   "execution_count": 3,
   "id": "94b76d6d-3fff-4a28-9674-73d69d35c81d",
   "metadata": {},
   "outputs": [
    {
     "name": "stdin",
     "output_type": "stream",
     "text": [
      "enter a number:  30\n"
     ]
    },
    {
     "name": "stdout",
     "output_type": "stream",
     "text": [
      "even\n"
     ]
    }
   ],
   "source": [
    "n = int(input(\"enter a number: \"))\n",
    "if n % 2 == 0:\n",
    "    print(\"even\")\n",
    "else:\n",
    "    print(\"odd\")"
   ]
  },
  {
   "cell_type": "code",
   "execution_count": null,
   "id": "fd41e347-ba48-40e3-a173-2296671928f6",
   "metadata": {},
   "outputs": [],
   "source": [
    " "
   ]
  },
  {
   "cell_type": "code",
   "execution_count": null,
   "id": "f407222e-90b0-42d6-b0f4-83661c461211",
   "metadata": {},
   "outputs": [],
   "source": [
    "# code 2\n"
   ]
  },
  {
   "cell_type": "code",
   "execution_count": 2,
   "id": "a51ad1ab-22a8-4900-88b9-f6c7c7a73117",
   "metadata": {},
   "outputs": [
    {
     "name": "stdin",
     "output_type": "stream",
     "text": [
      "Enter your age:  20\n"
     ]
    },
    {
     "name": "stdout",
     "output_type": "stream",
     "text": [
      "You are an Adult.\n"
     ]
    }
   ],
   "source": [
    "age = int(input(\"Enter your age: \"))\n",
    "\n",
    "if age >= 0:\n",
    "    if age <= 12:\n",
    "        print(\"You are a Child.\")\n",
    "    else:\n",
    "        if age <= 19:\n",
    "            print(\"You are a Teenager.\")\n",
    "        else:\n",
    "            if age <= 59:\n",
    "                print(\"You are an Adult.\")\n",
    "            else:\n",
    "                print(\"You are a Senior.\")\n",
    "else:\n",
    "    print(\"Invalid age entered.\")"
   ]
  },
  {
   "cell_type": "code",
   "execution_count": null,
   "id": "1601c7c0-9957-4b1d-92bb-287ee6d7cc6f",
   "metadata": {},
   "outputs": [],
   "source": []
  },
  {
   "cell_type": "code",
   "execution_count": null,
   "id": "2db8c922-1932-4284-a06b-12f6ae815e50",
   "metadata": {},
   "outputs": [],
   "source": [
    "# code 3\n"
   ]
  },
  {
   "cell_type": "code",
   "execution_count": null,
   "id": "1b2bf9d0-febc-4a2f-adc7-06a9962ddb42",
   "metadata": {},
   "outputs": [
    {
     "name": "stdin",
     "output_type": "stream",
     "text": [
      "Enter first number:  45\n"
     ]
    }
   ],
   "source": [
    "a = int(input(\"Enter first number: \"))\n",
    "b = int(input(\"Enter second number: \"))\n",
    "c = int(input(\"Enter third number: \"))\n",
    "        \n",
    "if a >= b and a >= c:\n",
    "    print(\"The largest number is:\", a)\n",
    "elif b >= a and b >= c:\n",
    "    print(\"The largest number is:\", b)\n",
    "else:\n",
    "    print(\"The largest number is:\", c)\n"
   ]
  },
  {
   "cell_type": "code",
   "execution_count": null,
   "id": "3bc2956a-89b8-4561-af04-e551e9d18c08",
   "metadata": {},
   "outputs": [],
   "source": []
  },
  {
   "cell_type": "code",
   "execution_count": null,
   "id": "d2ecf070-7aa2-4211-8a51-490c6b7b09de",
   "metadata": {},
   "outputs": [],
   "source": [
    "# code 4\n"
   ]
  },
  {
   "cell_type": "code",
   "execution_count": 4,
   "id": "4173ef08-9f15-4aa7-b7df-829d41af3623",
   "metadata": {},
   "outputs": [
    {
     "name": "stdin",
     "output_type": "stream",
     "text": [
      "Enter a number:  34\n"
     ]
    },
    {
     "name": "stdout",
     "output_type": "stream",
     "text": [
      "The number is positive.\n"
     ]
    }
   ],
   "source": [
    "num = int(input(\"Enter a number: \"))\n",
    "\n",
    "if num > 0:\n",
    "    print(\"The number is positive.\")\n",
    "elif num < 0:\n",
    "    print(\"The number is negative.\")\n",
    "else:\n",
    "    print(\"The number is neutral (zero).\")"
   ]
  },
  {
   "cell_type": "code",
   "execution_count": null,
   "id": "b9193e18-2ad9-4ffc-9a0c-cd8a99b32152",
   "metadata": {},
   "outputs": [],
   "source": []
  },
  {
   "cell_type": "code",
   "execution_count": null,
   "id": "9e5d8696-b608-4f8f-81a6-e5b3cab0e42c",
   "metadata": {},
   "outputs": [],
   "source": []
  },
  {
   "cell_type": "code",
   "execution_count": null,
   "id": "cdf11812-6a54-4c20-8704-480e5522686d",
   "metadata": {},
   "outputs": [],
   "source": []
  },
  {
   "cell_type": "code",
   "execution_count": null,
   "id": "4bf424df-9137-4241-987c-1fa1b2683653",
   "metadata": {},
   "outputs": [],
   "source": []
  },
  {
   "cell_type": "code",
   "execution_count": null,
   "id": "7d9aff58-a5be-4624-bdb7-b5170249343e",
   "metadata": {},
   "outputs": [],
   "source": []
  },
  {
   "cell_type": "code",
   "execution_count": null,
   "id": "d0733aa2-3ce4-4f49-a4f6-391eaad38c36",
   "metadata": {},
   "outputs": [],
   "source": []
  }
 ],
 "metadata": {
  "kernelspec": {
   "display_name": "Python [conda env:base] *",
   "language": "python",
   "name": "conda-base-py"
  },
  "language_info": {
   "codemirror_mode": {
    "name": "ipython",
    "version": 3
   },
   "file_extension": ".py",
   "mimetype": "text/x-python",
   "name": "python",
   "nbconvert_exporter": "python",
   "pygments_lexer": "ipython3",
   "version": "3.13.5"
  }
 },
 "nbformat": 4,
 "nbformat_minor": 5
}
