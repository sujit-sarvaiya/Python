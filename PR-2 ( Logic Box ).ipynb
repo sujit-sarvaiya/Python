{
 "cells": [
  {
   "cell_type": "code",
   "execution_count": null,
   "id": "1aebdee9-0150-41ef-a84e-4017746b4f10",
   "metadata": {},
   "outputs": [],
   "source": []
  },
  {
   "cell_type": "code",
   "execution_count": null,
   "id": "64ac1612-dc6b-4d42-bca6-77da3c12d446",
   "metadata": {},
   "outputs": [],
   "source": []
  },
  {
   "cell_type": "code",
   "execution_count": 5,
   "id": "922bef52-f77a-406b-a4dc-3d7058ea88aa",
   "metadata": {},
   "outputs": [
    {
     "name": "stdout",
     "output_type": "stream",
     "text": [
      "1. Generate Pattern (Right-angled Triangle) :\n",
      "2. Analyze Numbers (Odd/Even + Sum)\n",
      "3. Exit\n"
     ]
    },
    {
     "name": "stdin",
     "output_type": "stream",
     "text": [
      "Enter your choice (1-3):  1\n",
      "Enter number of rows for pattern:  5\n"
     ]
    },
    {
     "name": "stdout",
     "output_type": "stream",
     "text": [
      "* \n",
      "* * \n",
      "* * * \n",
      "* * * * \n",
      "* * * * * \n",
      "1. Generate Pattern (Right-angled Triangle) :\n",
      "2. Analyze Numbers (Odd/Even + Sum)\n",
      "3. Exit\n"
     ]
    },
    {
     "name": "stdin",
     "output_type": "stream",
     "text": [
      "Enter your choice (1-3):  2\n",
      "Enter start NO. :  1\n",
      "Enter end NO. :  25\n"
     ]
    },
    {
     "name": "stdout",
     "output_type": "stream",
     "text": [
      "1 is Odd\n",
      "2 is Even\n",
      "3 is Odd\n",
      "4 is Even\n",
      "5 is Odd\n",
      "Skipping number 5\n",
      "6 is Even\n",
      "7 is Odd\n",
      "8 is Even\n",
      "9 is Odd\n",
      "10 is Even\n",
      "11 is Odd\n",
      "12 is Even\n",
      "13 is Odd\n",
      "14 is Even\n",
      "15 is Odd\n",
      "16 is Even\n",
      "17 is Odd\n",
      "18 is Even\n",
      "19 is Odd\n",
      "20 is Even\n",
      "21 is Odd\n",
      "Number greater than 19\n",
      "Sum of numbers: 231\n",
      "1. Generate Pattern (Right-angled Triangle) :\n",
      "2. Analyze Numbers (Odd/Even + Sum)\n",
      "3. Exit\n"
     ]
    },
    {
     "name": "stdin",
     "output_type": "stream",
     "text": [
      "Enter your choice (1-3):  3\n"
     ]
    },
    {
     "name": "stdout",
     "output_type": "stream",
     "text": [
      "terminat the program. Aavjoo!!\n"
     ]
    }
   ],
   "source": [
    "#project - 2 Logic Box..\n",
    "\n",
    "while True:\n",
    "    print(\"1. Generate Pattern (Right-angled Triangle) :\")\n",
    "    print(\"2. Analyze Numbers (Odd/Even + Sum)\")\n",
    "    print(\"3. Exit\")\n",
    "\n",
    "    choice = int(input(\"Enter your choice (1-3): \"))\n",
    "\n",
    "    if choice == 1:\n",
    "        rows = int(input(\"Enter number of rows for pattern: \"))\n",
    "        \n",
    "        #using nasted loop..\n",
    "        for i in range(1, rows + 1):         \n",
    "            for j in range(1, i + 1):\n",
    "                print(\"*\", end=\" \")\n",
    "            print()\n",
    "\n",
    "    elif choice == 2:\n",
    "        start = int(input(\"Enter start NO. : \"))\n",
    "        end = int(input(\"Enter end NO. : \"))\n",
    "\n",
    "        total = 0\n",
    "        for n in range(start, end + 1):\n",
    "            if n == 0:\n",
    "                pass\n",
    "            elif n % 2 == 0:\n",
    "                print(n, \"is Even\")\n",
    "            else:\n",
    "                print(n, \"is Odd\")\n",
    "\n",
    "            total += n\n",
    "\n",
    "            if n > 20:                       \n",
    "                print(\"Number greater than 20\")\n",
    "                break\n",
    "\n",
    "            if n == 5:\n",
    "                print(\"Skipping number 5\")\n",
    "                continue\n",
    "\n",
    "        print(\"Sum of numbers:\", total)\n",
    "\n",
    "    elif choice == 3:\n",
    "        print(\"terminat the program. Aavjoo!!\")\n",
    "        break\n",
    "        \n",
    "    else:\n",
    "        print(\"Invalid choice! Try again.\")"
   ]
  },
  {
   "cell_type": "code",
   "execution_count": null,
   "id": "75bfc31c-c3c0-4753-b404-f00015d13ef4",
   "metadata": {},
   "outputs": [],
   "source": []
  }
 ],
 "metadata": {
  "kernelspec": {
   "display_name": "Python [conda env:base] *",
   "language": "python",
   "name": "conda-base-py"
  },
  "language_info": {
   "codemirror_mode": {
    "name": "ipython",
    "version": 3
   },
   "file_extension": ".py",
   "mimetype": "text/x-python",
   "name": "python",
   "nbconvert_exporter": "python",
   "pygments_lexer": "ipython3",
   "version": "3.13.5"
  }
 },
 "nbformat": 4,
 "nbformat_minor": 5
}
