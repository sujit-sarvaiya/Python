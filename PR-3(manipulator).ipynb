{
 "cells": [
  {
   "cell_type": "code",
   "execution_count": null,
   "id": "073f8e8d-141c-46ca-9024-8e0333527556",
   "metadata": {},
   "outputs": [],
   "source": []
  },
  {
   "cell_type": "code",
   "execution_count": null,
   "id": "f13ec18f-4199-43b0-85f8-87fa46c4c3cd",
   "metadata": {},
   "outputs": [],
   "source": []
  },
  {
   "cell_type": "code",
   "execution_count": null,
   "id": "8021410b-24a5-4ce1-a7b8-1e34547a222b",
   "metadata": {},
   "outputs": [],
   "source": []
  },
  {
   "cell_type": "code",
   "execution_count": 5,
   "id": "f087bd9e-d0f3-4346-bd31-5304d77a57c0",
   "metadata": {},
   "outputs": [
    {
     "name": "stdout",
     "output_type": "stream",
     "text": [
      "Welcome to Student Data Organizer\n",
      "This program manages student records.\n",
      "\n",
      "------ Menu: ------\n",
      "1. Add Student\n",
      "2. Display All Students\n",
      "3. Update Student Information\n",
      "4. Delete Student\n",
      "5. Display Subjects Offered\n",
      "6. Exit\n",
      "=============================\n"
     ]
    },
    {
     "name": "stdin",
     "output_type": "stream",
     "text": [
      "Enter your choice:  1\n",
      "Enter student name:  Sujit Sarvaiya\n",
      "Enter age:  19\n",
      "Enter grade:  A\n",
      "Enter subjects (comma separated):  Data Science , AI-ML\n",
      "Enter Student ID:  11854\n",
      "Enter Date of Birth (dd-mm-yyyy):  04-01-2006\n"
     ]
    },
    {
     "name": "stdout",
     "output_type": "stream",
     "text": [
      "Student added successfully!\n",
      "\n",
      "------ Menu: ------\n",
      "1. Add Student\n",
      "2. Display All Students\n",
      "3. Update Student Information\n",
      "4. Delete Student\n",
      "5. Display Subjects Offered\n",
      "6. Exit\n",
      "=============================\n"
     ]
    },
    {
     "name": "stdin",
     "output_type": "stream",
     "text": [
      "Enter your choice:  2\n"
     ]
    },
    {
     "name": "stdout",
     "output_type": "stream",
     "text": [
      "\n",
      "All Students:\n",
      "ID: 11854 | Name: Sujit Sarvaiya | Age: 19 | Grade: A | Subjects: Data Science , AI-ML\n",
      "\n",
      "------ Menu: ------\n",
      "1. Add Student\n",
      "2. Display All Students\n",
      "3. Update Student Information\n",
      "4. Delete Student\n",
      "5. Display Subjects Offered\n",
      "6. Exit\n",
      "=============================\n"
     ]
    },
    {
     "name": "stdin",
     "output_type": "stream",
     "text": [
      "Enter your choice:  3\n",
      "Enter Student ID to update:  11854\n"
     ]
    },
    {
     "name": "stdout",
     "output_type": "stream",
     "text": [
      "1. Update Name\n",
      "2. Update Age\n",
      "3. Update Grade\n",
      "4. Update Subjects\n"
     ]
    },
    {
     "name": "stdin",
     "output_type": "stream",
     "text": [
      "Enter choice:  3\n",
      "Enter new grade:  B+\n"
     ]
    },
    {
     "name": "stdout",
     "output_type": "stream",
     "text": [
      "Student updated successfully!\n",
      "\n",
      "------ Menu: ------\n",
      "1. Add Student\n",
      "2. Display All Students\n",
      "3. Update Student Information\n",
      "4. Delete Student\n",
      "5. Display Subjects Offered\n",
      "6. Exit\n",
      "=============================\n"
     ]
    },
    {
     "name": "stdin",
     "output_type": "stream",
     "text": [
      "Enter your choice:  4\n",
      "Enter Student ID to delete:  11854\n"
     ]
    },
    {
     "name": "stdout",
     "output_type": "stream",
     "text": [
      "Student deleted successfully!\n",
      "\n",
      "------ Menu: ------\n",
      "1. Add Student\n",
      "2. Display All Students\n",
      "3. Update Student Information\n",
      "4. Delete Student\n",
      "5. Display Subjects Offered\n",
      "6. Exit\n",
      "=============================\n"
     ]
    },
    {
     "name": "stdin",
     "output_type": "stream",
     "text": [
      "Enter your choice:  5\n"
     ]
    },
    {
     "name": "stdout",
     "output_type": "stream",
     "text": [
      "No subjects found.\n",
      "\n",
      "------ Menu: ------\n",
      "1. Add Student\n",
      "2. Display All Students\n",
      "3. Update Student Information\n",
      "4. Delete Student\n",
      "5. Display Subjects Offered\n",
      "6. Exit\n",
      "=============================\n"
     ]
    },
    {
     "name": "stdin",
     "output_type": "stream",
     "text": [
      "Enter your choice:  6\n"
     ]
    },
    {
     "name": "stdout",
     "output_type": "stream",
     "text": [
      "Thank you for using Student Data Organizer. Goodbye!\n"
     ]
    }
   ],
   "source": [
    "# Project : Manipulator\n",
    "\n",
    "print(\"Welcome to Student Data Organizer\")\n",
    "print(\"This program manages student records.\\n\")\n",
    "\n",
    "students = []\n",
    "\n",
    "while True:\n",
    "    print(\"------ Menu: ------\")\n",
    "    print(\"1. Add Student\")\n",
    "    print(\"2. Display All Students\")\n",
    "    print(\"3. Update Student Information\")\n",
    "    print(\"4. Delete Student\")\n",
    "    print(\"5. Display Subjects Offered\")\n",
    "    print(\"6. Exit\")\n",
    "    print(\"=============================\")\n",
    "\n",
    "    choice = input(\"Enter your choice: \")\n",
    "\n",
    "    if choice == \"1\":      # Add Student\n",
    "\n",
    "        name = input(\"Enter student name: \")\n",
    "        age = int(input(\"Enter age: \"))\n",
    "        grade = input(\"Enter grade: \")\n",
    "        subjects = input(\"Enter subjects : \")\n",
    "        sid = input(\"Enter Student ID: \")\n",
    "        dob = input(\"Enter Date of Birth (dd-mm-yyyy): \")\n",
    "\n",
    "        id_dob = (sid, dob)\n",
    "\n",
    "        student = {\n",
    "            \"name\": name,\n",
    "            \"age\": age,\n",
    "            \"grade\": grade,\n",
    "            \"subjects\": subjects,\n",
    "            \"id_dob\": id_dob\n",
    "        }\n",
    "        students.append(student)\n",
    "        print(\"Student added successfully!\\n\")\n",
    "\n",
    "    elif choice == \"2\":    # Display All Students\n",
    "        \n",
    "        if not students:\n",
    "            print(\"No student records found.\\n\")\n",
    "        else:\n",
    "            print(\"\\nAll Students:\")\n",
    "            for s in students:\n",
    "                print(f\"ID: {s['id_dob'][0]} | Name: {s['name']} | Age: {s['age']} | Grade: {s['grade']} | Subjects: {s['subjects']}\")\n",
    "            print()\n",
    "\n",
    "    elif choice == \"3\":      # Update Student\n",
    "       \n",
    "        sid = input(\"Enter Student ID to update: \")\n",
    "        found = False\n",
    "        for s in students:\n",
    "            if s['id_dob'][0] == sid:\n",
    "                found = True\n",
    "                print(\"1. Update Name\")\n",
    "                print(\"2. Update Age\")\n",
    "                print(\"3. Update Grade\")\n",
    "                print(\"4. Update Subjects\")\n",
    "                c = input(\"Enter choice: \")\n",
    "                if c == \"1\":\n",
    "                    s['name'] = input(\"Enter new name: \")\n",
    "                elif c == \"2\":\n",
    "                    s['age'] = int(input(\"Enter new age: \"))\n",
    "                elif c == \"3\":\n",
    "                    s['grade'] = input(\"Enter new grade: \")\n",
    "                elif c == \"4\":\n",
    "                    s['subjects'] = input(\"Enter new subjects (comma separated): \")\n",
    "                print(\"Student updated successfully!\\n\")\n",
    "        if not found:\n",
    "            print(\"Student ID not found.\\n\")\n",
    "\n",
    "    elif choice == \"4\":   # Delete Student\n",
    "        \n",
    "        sid = input(\"Enter Student ID to delete: \")\n",
    "        for i, s in enumerate(students):\n",
    "            if s['id_dob'][0] == sid:\n",
    "                del students[i]  \n",
    "                print(\"Student deleted successfully!\\n\")\n",
    "                break\n",
    "        else:\n",
    "            print(\"Student ID not found.\\n\")\n",
    "\n",
    "    elif choice == \"5\":        # Display Subjects Offered\n",
    "\n",
    "        all_subjects = []\n",
    "        for s in students:\n",
    "            subs = s['subjects'].split(\",\")\n",
    "            for sub in subs:\n",
    "                sub = sub.strip()\n",
    "                if sub and sub not in all_subjects:\n",
    "                    all_subjects.append(sub)\n",
    "        if all_subjects:\n",
    "            print(\"All Unique Subjects Offered:\", \", \".join(all_subjects), \"\\n\")\n",
    "        else:\n",
    "            print(\"No subjects found.\\n\")\n",
    "\n",
    "    elif choice == \"6\":      #exit\n",
    "        print(\"Thank you for using Student Data Organizer. Goodbye!\")\n",
    "        break\n",
    "\n",
    "    else:\n",
    "        print(\"Invalid choice. Try again.\\n\")"
   ]
  },
  {
   "cell_type": "code",
   "execution_count": null,
   "id": "e7c13c69-ae92-4ec0-b818-fea38c25abe9",
   "metadata": {},
   "outputs": [],
   "source": []
  },
  {
   "cell_type": "code",
   "execution_count": null,
   "id": "0601fea8-5766-474f-b8e7-72d8deb87bf1",
   "metadata": {},
   "outputs": [],
   "source": []
  },
  {
   "cell_type": "code",
   "execution_count": null,
   "id": "fbe71f25-c24d-477c-a226-35004173ac4f",
   "metadata": {},
   "outputs": [],
   "source": []
  },
  {
   "cell_type": "code",
   "execution_count": null,
   "id": "28e3f6f6-ed90-48c6-8db3-48ae4a0e4b53",
   "metadata": {},
   "outputs": [],
   "source": []
  },
  {
   "cell_type": "code",
   "execution_count": null,
   "id": "399cdf0d-2a4c-49d2-b596-82bd47bfc625",
   "metadata": {},
   "outputs": [],
   "source": []
  },
  {
   "cell_type": "code",
   "execution_count": null,
   "id": "e31e2310-ca32-4285-b490-a65c938adb6f",
   "metadata": {},
   "outputs": [],
   "source": []
  }
 ],
 "metadata": {
  "kernelspec": {
   "display_name": "Python [conda env:base] *",
   "language": "python",
   "name": "conda-base-py"
  },
  "language_info": {
   "codemirror_mode": {
    "name": "ipython",
    "version": 3
   },
   "file_extension": ".py",
   "mimetype": "text/x-python",
   "name": "python",
   "nbconvert_exporter": "python",
   "pygments_lexer": "ipython3",
   "version": "3.13.5"
  }
 },
 "nbformat": 4,
 "nbformat_minor": 5
}
