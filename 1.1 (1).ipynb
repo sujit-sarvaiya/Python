{
 "cells": [
  {
   "cell_type": "code",
   "execution_count": null,
   "id": "9f8655c5-a238-4e46-94a1-2ea1f6b382d8",
   "metadata": {},
   "outputs": [],
   "source": [
    "code 1"
   ]
  },
  {
   "cell_type": "code",
   "execution_count": 1,
   "id": "6548f0bd-33f5-42e8-aaa5-12e1777f5529",
   "metadata": {},
   "outputs": [
    {
     "name": "stdout",
     "output_type": "stream",
     "text": [
      "*\n",
      "**\n",
      "***\n",
      "****\n"
     ]
    }
   ],
   "source": [
    " for i in range(1, 5):\n",
    "    print(\"*\" * i)"
   ]
  }
 ],
 "metadata": {
  "kernelspec": {
   "display_name": "Python [conda env:base] *",
   "language": "python",
   "name": "conda-base-py"
  },
  "language_info": {
   "codemirror_mode": {
    "name": "ipython",
    "version": 3
   },
   "file_extension": ".py",
   "mimetype": "text/x-python",
   "name": "python",
   "nbconvert_exporter": "python",
   "pygments_lexer": "ipython3",
   "version": "3.13.5"
  }
 },
 "nbformat": 4,
 "nbformat_minor": 5
}
