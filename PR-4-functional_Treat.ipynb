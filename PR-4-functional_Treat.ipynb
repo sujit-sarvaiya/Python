{
 "cells": [
  {
   "cell_type": "code",
   "execution_count": null,
   "id": "fd6d3e58-6ba6-416c-b413-bdebccfc5e31",
   "metadata": {},
   "outputs": [],
   "source": []
  },
  {
   "cell_type": "code",
   "execution_count": 1,
   "id": "65b44ef0-30b0-4434-a364-86f64b65a16a",
   "metadata": {},
   "outputs": [
    {
     "name": "stdout",
     "output_type": "stream",
     "text": [
      "\n",
      "--- Main Menu ---\n",
      "1. Input Data\n",
      "2. Display Data Summary\n",
      "3. Calculate Factorial\n",
      "4. Filter Data by Threshold\n",
      "5. Sort Data\n",
      "6. Display Dataset Statistics\n",
      "7. Exit Program\n",
      "========================\n"
     ]
    },
    {
     "name": "stdin",
     "output_type": "stream",
     "text": [
      "Enter choice:  1\n",
      "Enter numbers separated by space:  10 20 30 40 50 60\n"
     ]
    },
    {
     "name": "stdout",
     "output_type": "stream",
     "text": [
      "Data saved successfully!\n",
      "\n",
      "--- Main Menu ---\n",
      "1. Input Data\n",
      "2. Display Data Summary\n",
      "3. Calculate Factorial\n",
      "4. Filter Data by Threshold\n",
      "5. Sort Data\n",
      "6. Display Dataset Statistics\n",
      "7. Exit Program\n",
      "========================\n"
     ]
    },
    {
     "name": "stdin",
     "output_type": "stream",
     "text": [
      "Enter choice:  2\n"
     ]
    },
    {
     "name": "stdout",
     "output_type": "stream",
     "text": [
      "Data: [10, 20, 30, 40, 50, 60]\n",
      "Total elements: 6\n",
      "Sum of elements: 210\n",
      "Minimum value: 10\n",
      "Maximum value: 60\n",
      "\n",
      "--- Main Menu ---\n",
      "1. Input Data\n",
      "2. Display Data Summary\n",
      "3. Calculate Factorial\n",
      "4. Filter Data by Threshold\n",
      "5. Sort Data\n",
      "6. Display Dataset Statistics\n",
      "7. Exit Program\n",
      "========================\n"
     ]
    },
    {
     "name": "stdin",
     "output_type": "stream",
     "text": [
      "Enter choice:  3\n",
      "Enter a number:  35\n"
     ]
    },
    {
     "name": "stdout",
     "output_type": "stream",
     "text": [
      "Factorial of 35 is: 10333147966386144929666651337523200000000\n",
      "\n",
      "--- Main Menu ---\n",
      "1. Input Data\n",
      "2. Display Data Summary\n",
      "3. Calculate Factorial\n",
      "4. Filter Data by Threshold\n",
      "5. Sort Data\n",
      "6. Display Dataset Statistics\n",
      "7. Exit Program\n",
      "========================\n"
     ]
    },
    {
     "name": "stdin",
     "output_type": "stream",
     "text": [
      "Enter choice:  4\n",
      "Enter threshold value:  45\n"
     ]
    },
    {
     "name": "stdout",
     "output_type": "stream",
     "text": [
      "Values greater than 45 : [50, 60]\n",
      "\n",
      "--- Main Menu ---\n",
      "1. Input Data\n",
      "2. Display Data Summary\n",
      "3. Calculate Factorial\n",
      "4. Filter Data by Threshold\n",
      "5. Sort Data\n",
      "6. Display Dataset Statistics\n",
      "7. Exit Program\n",
      "========================\n"
     ]
    },
    {
     "name": "stdin",
     "output_type": "stream",
     "text": [
      "Enter choice:  5\n"
     ]
    },
    {
     "name": "stdout",
     "output_type": "stream",
     "text": [
      "Sorted Data: [10, 20, 30, 40, 50, 60]\n",
      "\n",
      "--- Main Menu ---\n",
      "1. Input Data\n",
      "2. Display Data Summary\n",
      "3. Calculate Factorial\n",
      "4. Filter Data by Threshold\n",
      "5. Sort Data\n",
      "6. Display Dataset Statistics\n",
      "7. Exit Program\n",
      "========================\n"
     ]
    },
    {
     "name": "stdin",
     "output_type": "stream",
     "text": [
      "Enter choice:  6\n"
     ]
    },
    {
     "name": "stdout",
     "output_type": "stream",
     "text": [
      "Total Elements: 6\n",
      "Average Value: 35.0\n",
      "\n",
      "--- Main Menu ---\n",
      "1. Input Data\n",
      "2. Display Data Summary\n",
      "3. Calculate Factorial\n",
      "4. Filter Data by Threshold\n",
      "5. Sort Data\n",
      "6. Display Dataset Statistics\n",
      "7. Exit Program\n",
      "========================\n"
     ]
    },
    {
     "name": "stdin",
     "output_type": "stream",
     "text": [
      "Enter choice:  7\n"
     ]
    },
    {
     "name": "stdout",
     "output_type": "stream",
     "text": [
      "Exiting program... Goodbye!\n"
     ]
    }
   ],
   "source": [
    "# Functional Treat \n",
    "\n",
    "data = []   \n",
    "\n",
    "\n",
    "def input_data():\n",
    "    \"\"\"Take data input from user\"\"\"\n",
    "    global data\n",
    "    data = list(map(int, input(\"Enter numbers separated by space: \").split()))\n",
    "    print(\"Data saved successfully!\")\n",
    "\n",
    "\n",
    "def display_summary():\n",
    "    \"\"\"Display data summary\"\"\"\n",
    "    if not data:\n",
    "        print(\"No data available. Please input data first.\")\n",
    "        return\n",
    "    print(\"Data:\", data)\n",
    "    print(\"Total elements:\", len(data))\n",
    "    print(\"Sum of elements:\", sum(data))\n",
    "    print(\"Minimum value:\", min(data))\n",
    "    print(\"Maximum value:\", max(data))\n",
    "\n",
    "\n",
    "def factorial(n):\n",
    "    \"\"\"Recursive function to calculate factorial\"\"\"\n",
    "    if n == 0 or n == 1:\n",
    "        return 1\n",
    "    return n * factorial(n - 1)\n",
    "\n",
    "def calculate_factorial():\n",
    "    \"\"\"Take input and calculate factorial\"\"\"\n",
    "    n = int(input(\"Enter a number: \"))\n",
    "    print(\"Factorial of\", n, \"is:\", factorial(n))\n",
    "\n",
    "\n",
    "def filter_by_threshold():\n",
    "    \"\"\"Filter data based on user threshold\"\"\"\n",
    "    if not data:\n",
    "        print(\"No data available. Please input data first.\")\n",
    "        return\n",
    "    threshold = int(input(\"Enter threshold value: \"))\n",
    "    filtered = list(filter(lambda x: x > threshold, data))\n",
    "    print(\"Values greater than\", threshold, \":\", filtered)\n",
    "\n",
    "\n",
    "def sort_data():\n",
    "    \"\"\"Sort the dataset\"\"\"\n",
    "    if not data:\n",
    "        print(\"No data available. Please input data first.\")\n",
    "        return\n",
    "    sorted_data = sorted(data)\n",
    "    print(\"Sorted Data:\", sorted_data)\n",
    "\n",
    "\n",
    "def dataset_statistics():\n",
    "    \"\"\"Return min and max values\"\"\"\n",
    "    if not data:\n",
    "        print(\"No data available. Please input data first.\")\n",
    "        return\n",
    "    total = len(data)\n",
    "    avg = sum(data) / total\n",
    "    print(\"Total Elements:\", total)\n",
    "    print(\"Average Value:\", avg)\n",
    "\n",
    "def main():\n",
    "    while True:\n",
    "        print(\"\\n--- Main Menu ---\")\n",
    "        print(\"1. Input Data\")\n",
    "        print(\"2. Display Data Summary\")\n",
    "        print(\"3. Calculate Factorial\")\n",
    "        print(\"4. Filter Data by Threshold\")\n",
    "        print(\"5. Sort Data\")\n",
    "        print(\"6. Display Dataset Statistics\")\n",
    "        print(\"7. Exit Program\")\n",
    "        print(\"========================\")\n",
    "\n",
    "        choice = input(\"Enter choice: \")\n",
    "\n",
    "        if choice == \"1\":\n",
    "            input_data()\n",
    "        elif choice == \"2\":\n",
    "            display_summary()\n",
    "        elif choice == \"3\":\n",
    "            calculate_factorial()\n",
    "        elif choice == \"4\":\n",
    "            filter_by_threshold()\n",
    "        elif choice == \"5\":\n",
    "            sort_data()\n",
    "        elif choice == \"6\":\n",
    "            dataset_statistics()\n",
    "        elif choice == \"7\":\n",
    "            print(\"Exiting program... Goodbye!\")\n",
    "            break\n",
    "        else:\n",
    "            print(\"Invalid choice. Try again!\")\n",
    "\n",
    "\n",
    "main()\n"
   ]
  },
  {
   "cell_type": "code",
   "execution_count": null,
   "id": "7bcaa269-3679-4e29-b5ba-b22de5a9a1c9",
   "metadata": {},
   "outputs": [],
   "source": []
  },
  {
   "cell_type": "code",
   "execution_count": null,
   "id": "e6d8bc28-c550-4fb5-b633-8539b7ad204b",
   "metadata": {},
   "outputs": [],
   "source": []
  },
  {
   "cell_type": "code",
   "execution_count": null,
   "id": "0f168393-a890-4e76-b5ed-5590cfd9ae34",
   "metadata": {},
   "outputs": [],
   "source": []
  },
  {
   "cell_type": "code",
   "execution_count": null,
   "id": "7b99451b-3901-4ed0-b4f3-acdaa26af4a5",
   "metadata": {},
   "outputs": [],
   "source": []
  },
  {
   "cell_type": "code",
   "execution_count": null,
   "id": "442437c1-0dbb-4f70-8880-259a7ea80aa1",
   "metadata": {},
   "outputs": [],
   "source": []
  },
  {
   "cell_type": "code",
   "execution_count": null,
   "id": "47f0aeae-19b1-4dce-ba54-0158d1bdb640",
   "metadata": {},
   "outputs": [],
   "source": []
  }
 ],
 "metadata": {
  "kernelspec": {
   "display_name": "Python [conda env:base] *",
   "language": "python",
   "name": "conda-base-py"
  },
  "language_info": {
   "codemirror_mode": {
    "name": "ipython",
    "version": 3
   },
   "file_extension": ".py",
   "mimetype": "text/x-python",
   "name": "python",
   "nbconvert_exporter": "python",
   "pygments_lexer": "ipython3",
   "version": "3.13.5"
  }
 },
 "nbformat": 4,
 "nbformat_minor": 5
}
