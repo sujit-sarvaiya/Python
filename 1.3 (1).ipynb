{
 "cells": [
  {
   "cell_type": "code",
   "execution_count": null,
   "id": "bacd3b21-e105-494f-abbf-533d334067cd",
   "metadata": {},
   "outputs": [],
   "source": [
    "#code 1\n",
    "\n"
   ]
  },
  {
   "cell_type": "code",
   "execution_count": 1,
   "id": "876ea83e-1722-48ef-9f75-38f44316386d",
   "metadata": {},
   "outputs": [
    {
     "name": "stdin",
     "output_type": "stream",
     "text": [
      "Enter a number:  25\n"
     ]
    },
    {
     "name": "stdout",
     "output_type": "stream",
     "text": [
      "25 <class 'int'>\n",
      "25.0 <class 'float'>\n",
      "True <class 'bool'>\n"
     ]
    }
   ],
   "source": [
    "s = input(\"Enter a number: \")\n",
    "\n",
    "print(int(s), type(int(s)))\n",
    "print(float(s), type(float(s)))\n",
    "print(bool(s), type(bool(s)))\n"
   ]
  },
  {
   "cell_type": "code",
   "execution_count": null,
   "id": "397a11d1-d57c-4ebb-a456-e4ee75136122",
   "metadata": {},
   "outputs": [],
   "source": [
    "#code 2"
   ]
  },
  {
   "cell_type": "code",
   "execution_count": 2,
   "id": "523f185b-7276-4bbe-a6d7-b70579bda7e2",
   "metadata": {},
   "outputs": [
    {
     "name": "stdin",
     "output_type": "stream",
     "text": [
      "Enter a float:  11.5\n"
     ]
    },
    {
     "name": "stdout",
     "output_type": "stream",
     "text": [
      "Float: 11.5\n",
      "Integer: 11 (decimal part removed)\n"
     ]
    }
   ],
   "source": [
    "num = float(input(\"Enter a float: \"))\n",
    "print(\"Float:\", num)\n",
    "print(\"Integer:\", int(num), \"(decimal part removed)\")\n"
   ]
  },
  {
   "cell_type": "code",
   "execution_count": null,
   "id": "17d232d0-91f6-499e-aac0-1951b1b5b9b8",
   "metadata": {},
   "outputs": [],
   "source": [
    "#code 3"
   ]
  },
  {
   "cell_type": "code",
   "execution_count": 16,
   "id": "28e695ed-c42f-4895-a6da-23d77a8a2a93",
   "metadata": {},
   "outputs": [
    {
     "name": "stdin",
     "output_type": "stream",
     "text": [
      "Enter True or False:  11\n"
     ]
    },
    {
     "name": "stdout",
     "output_type": "stream",
     "text": [
      "Bool: False\n",
      "Int: 0\n",
      "Str: False\n"
     ]
    }
   ],
   "source": [
    "b = input(\"Enter True or False: \") == \"True\"\n",
    "print(\"Bool:\", b)\n",
    "print(\"Int:\", int(b))\n",
    "print(\"Str:\", str(b))\n"
   ]
  },
  {
   "cell_type": "code",
   "execution_count": null,
   "id": "7ba4547d-e50b-4eb8-b021-9c27edea9717",
   "metadata": {},
   "outputs": [],
   "source": [
    "#code 4"
   ]
  },
  {
   "cell_type": "code",
   "execution_count": 17,
   "id": "c1b7b1fb-5164-4ccd-a094-f3ca3bd7bbf8",
   "metadata": {},
   "outputs": [
    {
     "name": "stdout",
     "output_type": "stream",
     "text": [
      "10 <class 'int'> 140725203219656\n",
      "10.5 <class 'float'> 2302358793520\n",
      "Hello <class 'str'> 2302360990416\n",
      "True <class 'bool'> 140725202307552\n",
      "[1, 2] <class 'list'> 2302361197120\n",
      "(3, 4) <class 'tuple'> 2302321592640\n",
      "{'a': 1} <class 'dict'> 2302321778368\n"
     ]
    }
   ],
   "source": [
    "data = [10, 10.5, \"Hello\", True, [1,2], (3,4), {\"a\":1}]\n",
    "for d in data:\n",
    "    print(d, type(d), id(d))\n"
   ]
  },
  {
   "cell_type": "code",
   "execution_count": null,
   "id": "1efeb1d6-d207-492c-b1bb-cc4cffc02eb9",
   "metadata": {},
   "outputs": [],
   "source": [
    "#ciode 5"
   ]
  },
  {
   "cell_type": "code",
   "execution_count": 18,
   "id": "bb6ee16a-53d5-440a-8949-ac111bafe76c",
   "metadata": {},
   "outputs": [
    {
     "name": "stdout",
     "output_type": "stream",
     "text": [
      "a: 140725203219496 b: 140725203219496\n",
      "After change -> a: 140725203219496 b: 140725203219656\n"
     ]
    }
   ],
   "source": [
    "a = b = 5\n",
    "print(\"a:\", id(a), \"b:\", id(b))\n",
    "\n",
    "b = 10\n",
    "print(\"After change -> a:\", id(a), \"b:\", id(b))\n"
   ]
  },
  {
   "cell_type": "code",
   "execution_count": null,
   "id": "e1406c58-056d-4f31-bba6-6f95f097ef62",
   "metadata": {},
   "outputs": [],
   "source": []
  }
 ],
 "metadata": {
  "kernelspec": {
   "display_name": "Python [conda env:base] *",
   "language": "python",
   "name": "conda-base-py"
  },
  "language_info": {
   "codemirror_mode": {
    "name": "ipython",
    "version": 3
   },
   "file_extension": ".py",
   "mimetype": "text/x-python",
   "name": "python",
   "nbconvert_exporter": "python",
   "pygments_lexer": "ipython3",
   "version": "3.13.5"
  }
 },
 "nbformat": 4,
 "nbformat_minor": 5
}
