{
 "cells": [
  {
   "cell_type": "code",
   "execution_count": 2,
   "id": "7e0820ac-c4cd-489e-805f-59663811e3f4",
   "metadata": {},
   "outputs": [
    {
     "name": "stdout",
     "output_type": "stream",
     "text": [
      "Apple - Banana - Cherry\n",
      "This is first line & this is second line\n"
     ]
    }
   ],
   "source": [
    "#code 1\n",
    "\n",
    "# example of'sep'\n",
    "print(\"Apple\", \"Banana\", \"Cherry\", sep=\" - \")\n",
    "\n",
    "# example of 'end'\n",
    "print(\"This is first line\", end=\" & \")\n",
    "print(\"this is second line\")\n"
   ]
  },
  {
   "cell_type": "code",
   "execution_count": 3,
   "id": "5d98641c-bd64-4a05-b5f1-eb300ebe3ebb",
   "metadata": {},
   "outputs": [
    {
     "name": "stdin",
     "output_type": "stream",
     "text": [
      "Enter your name:  sujeet\n",
      "Enter your age:  20\n",
      "Enter your favourite hobby:  learn coding\n"
     ]
    },
    {
     "name": "stdout",
     "output_type": "stream",
     "text": [
      "Hello, sujeet! At 20, enjoying learn coding sounds fun!\n"
     ]
    }
   ],
   "source": [
    "#code 2\n",
    "\n",
    "# Inputs from user\n",
    "name = input(\"Enter your name: \")\n",
    "age = input(\"Enter your age: \")\n",
    "hobby = input(\"Enter your favourite hobby: \")\n",
    "\n",
    "print(\"Hello,\", name + \"! At\", age + \", enjoying\", hobby, \"sounds fun!\")\n"
   ]
  },
  {
   "cell_type": "code",
   "execution_count": 5,
   "id": "59c35cde-87d6-4d48-9a0a-ff91753159bf",
   "metadata": {},
   "outputs": [
    {
     "name": "stdout",
     "output_type": "stream",
     "text": [
      "Addition: 30\n",
      "Subtraction: -10\n",
      "Multiplication: 200\n",
      "Division: 0.5\n",
      "Floor Division: 0\n",
      "Modulus: 10\n",
      "Exponentiation: 100000000000000000000\n"
     ]
    }
   ],
   "source": [
    "# code 3\n",
    "\n",
    "A = 10\n",
    "B = 20\n",
    "\n",
    "#operations\n",
    "print(\"Addition:\", A + B)\n",
    "print(\"Subtraction:\", A - B)\n",
    "print(\"Multiplication:\", A * B)\n",
    "print(\"Division:\", A / B)\n",
    "print(\"Floor Division:\", A // B)\n",
    "print(\"Modulus:\", A % B)\n",
    "print(\"Exponentiation:\", A ** B)\n"
   ]
  },
  {
   "cell_type": "code",
   "execution_count": 10,
   "id": "99440c8a-2306-4cfa-a70a-3054d6b87e98",
   "metadata": {},
   "outputs": [
    {
     "name": "stdout",
     "output_type": "stream",
     "text": [
      "13 <class 'int'>\n",
      "5.5 <class 'float'>\n",
      "sujeet <class 'str'>\n",
      "true <class 'bool'>\n",
      "4 + 1j <class 'complex'>\n",
      "None <class 'NoneType'>\n"
     ]
    }
   ],
   "source": [
    "#code 4\n",
    "\n",
    "# variables\n",
    "a = 13          # integer\n",
    "b = 5.5         # float\n",
    "c = \"sujeet\"    # string\n",
    "d = True        # boolean\n",
    "e = 4 + 1j      # complex\n",
    "f = None        #none\n",
    "\n",
    "print(\"13\",type(a))\n",
    "print(\"5.5\",type(b))\n",
    "print(\"sujeet\",type(c))\n",
    "print(\"true\",type(d))\n",
    "print(\"4 + 1j\",type(e))\n",
    "print(\"None\",type(f))\n"
   ]
  },
  {
   "cell_type": "code",
   "execution_count": 12,
   "id": "b9b0d40d-9bb6-4f20-ab51-c3122d0c5126",
   "metadata": {},
   "outputs": [
    {
     "name": "stdin",
     "output_type": "stream",
     "text": [
      "Enter height in cm:  178\n",
      "Enter weight in kg:  71\n"
     ]
    },
    {
     "name": "stdout",
     "output_type": "stream",
     "text": [
      "Height: 178 Type: <class 'int'>\n",
      "Weight: 71 Type: <class 'int'>\n"
     ]
    }
   ],
   "source": [
    "#code 5\n",
    "\n",
    "# input from user\n",
    "height = int(input(\"Enter height in cm: \"))\n",
    "weight = int(input(\"Enter weight in kg: \"))\n",
    "\n",
    "# Displaying values with type\n",
    "print(\"Height:\", height, \"Type:\", type(height))\n",
    "print(\"Weight:\", weight, \"Type:\", type(weight))\n"
   ]
  },
  {
   "cell_type": "code",
   "execution_count": 13,
   "id": "72ae49f4-dd51-4a4a-ad8b-d0d538172264",
   "metadata": {},
   "outputs": [
    {
     "name": "stdin",
     "output_type": "stream",
     "text": [
      "Enter first value (True/False):  true\n",
      "Enter second value (True/False):  false\n"
     ]
    },
    {
     "name": "stdout",
     "output_type": "stream",
     "text": [
      "a and b: false\n",
      "a or b: true\n",
      "not a: False\n",
      "not b: False\n"
     ]
    }
   ],
   "source": [
    "#code 6\n",
    "\n",
    "# boolean inputs from user\n",
    "a = input(\"Enter first value (True/False): \")\n",
    "b = input(\"Enter second value (True/False): \")\n",
    "\n",
    "print(\"a and b:\", a and b)\n",
    "print(\"a or b:\", a or b)\n",
    "print(\"not a:\", not a)\n",
    "print(\"not b:\", not b)\n"
   ]
  },
  {
   "cell_type": "code",
   "execution_count": 16,
   "id": "989f3a9f-0768-4169-b419-345d60b540fa",
   "metadata": {},
   "outputs": [
    {
     "name": "stdout",
     "output_type": "stream",
     "text": [
      "a = b: 5\n",
      "a += b: 10\n",
      "a -= b: 5\n",
      "a *= b: 25\n",
      "a /= b: 5.0\n"
     ]
    }
   ],
   "source": [
    "#code 7\n",
    "\n",
    "#assignment operators\n",
    "a = 10\n",
    "b = 5\n",
    "\n",
    "a = b\n",
    "print(\"a = b:\", a)\n",
    "\n",
    "a += b\n",
    "print(\"a += b:\", a)\n",
    "\n",
    "a -= b\n",
    "print(\"a -= b:\", a)\n",
    "\n",
    "a *= b\n",
    "print(\"a *= b:\", a)\n",
    "\n",
    "a /= b\n",
    "print(\"a /= b:\", a)\n"
   ]
  },
  {
   "cell_type": "code",
   "execution_count": null,
   "id": "b869fe6a-d747-435e-aa50-0438a86ff0fc",
   "metadata": {},
   "outputs": [],
   "source": []
  },
  {
   "cell_type": "code",
   "execution_count": null,
   "id": "5f0bfeda-0ae2-4ab7-a4ee-cd2131adabed",
   "metadata": {},
   "outputs": [],
   "source": []
  }
 ],
 "metadata": {
  "kernelspec": {
   "display_name": "Python [conda env:base] *",
   "language": "python",
   "name": "conda-base-py"
  },
  "language_info": {
   "codemirror_mode": {
    "name": "ipython",
    "version": 3
   },
   "file_extension": ".py",
   "mimetype": "text/x-python",
   "name": "python",
   "nbconvert_exporter": "python",
   "pygments_lexer": "ipython3",
   "version": "3.13.5"
  }
 },
 "nbformat": 4,
 "nbformat_minor": 5
}
