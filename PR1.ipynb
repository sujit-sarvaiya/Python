{
 "cells": [
  {
   "cell_type": "code",
   "execution_count": 1,
   "id": "a40bd26d-4da9-4e6a-b008-9defde4b4d5f",
   "metadata": {},
   "outputs": [
    {
     "name": "stdout",
     "output_type": "stream",
     "text": [
      "Welcome to the Interactive Personal Data Collector!\n",
      "\n"
     ]
    },
    {
     "name": "stdin",
     "output_type": "stream",
     "text": [
      "Please enter your name:  sujit\n",
      "Please enter your age:  20\n",
      "Please enter your height in meters:  1.6\n",
      "Please enter your favourite number:  04\n"
     ]
    },
    {
     "name": "stdout",
     "output_type": "stream",
     "text": [
      "\n",
      "Thank you! Here is the information we collected:\n",
      "\n",
      "Name: sujit (Type: <class 'str'>, Memory Address: 2663105876768)\n",
      "Age: 20 (Type: <class 'int'>, Memory Address: 140720486135304)\n",
      "Height: 1.6 (Type: <class 'float'>, Memory Address: 2663082321840)\n",
      "Favourite Number: 4 (Type: <class 'int'>, Memory Address: 140720486134792)\n",
      "\n",
      "Your birth year is approximately: 2003 (based on your age of 20)\n",
      "\n",
      "Thank you for using the Personal Data Collector. Goodbye!\n"
     ]
    }
   ],
   "source": [
    "print(\"Welcome to the Interactive Personal Data Collector!\\n\")\n",
    "\n",
    "\n",
    "name = input(\"Please enter your name: \")\n",
    "age = int(input(\"Please enter your age: \"))\n",
    "height = float(input(\"Please enter your height in meters: \"))\n",
    "favourite_number = int(input(\"Please enter your favourite number: \"))\n",
    "\n",
    "print(\"\\nThank you! Here is the information we collected:\\n\")\n",
    "\n",
    "\n",
    "print(f\"Name: {name} (Type: {type(name)}, Memory Address: {id(name)})\")\n",
    "print(f\"Age: {age} (Type: {type(age)}, Memory Address: {id(age)})\")\n",
    "print(f\"Height: {height} (Type: {type(height)}, Memory Address: {id(height)})\")\n",
    "print(f\"Favourite Number: {favourite_number} (Type: {type(favourite_number)}, Memory Address: {id(favourite_number)})\")\n",
    "\n",
    "\n",
    "current_year = 2023 \n",
    "birth_year = current_year - age\n",
    "print(f\"\\nYour birth year is approximately: {birth_year} (based on your age of {age})\")\n",
    "\n",
    "print(\"\\nThank you for using the Personal Data Collector. Goodbye!\")"
   ]
  },
  {
   "cell_type": "code",
   "execution_count": null,
   "id": "f4319d8b-76eb-4905-b51c-e2554759c934",
   "metadata": {},
   "outputs": [],
   "source": []
  },
  {
   "cell_type": "code",
   "execution_count": null,
   "id": "433ea9de-24da-4966-b5e0-72503ddf114a",
   "metadata": {},
   "outputs": [],
   "source": []
  },
  {
   "cell_type": "code",
   "execution_count": null,
   "id": "e711f1ce-a452-4822-b041-a4a798930656",
   "metadata": {},
   "outputs": [],
   "source": []
  },
  {
   "cell_type": "code",
   "execution_count": null,
   "id": "d41216c5-8941-4326-a7dc-62d9537cde36",
   "metadata": {},
   "outputs": [],
   "source": []
  },
  {
   "cell_type": "code",
   "execution_count": null,
   "id": "3d65df0c-fcf9-4bb5-93f4-531ac8192180",
   "metadata": {},
   "outputs": [],
   "source": []
  },
  {
   "cell_type": "code",
   "execution_count": null,
   "id": "ee59d342-5a97-44ad-b587-f595d3268914",
   "metadata": {},
   "outputs": [],
   "source": []
  },
  {
   "cell_type": "code",
   "execution_count": null,
   "id": "8a01c9f7-41b6-452b-b305-a9141db168c6",
   "metadata": {},
   "outputs": [],
   "source": []
  }
 ],
 "metadata": {
  "kernelspec": {
   "display_name": "Python [conda env:base] *",
   "language": "python",
   "name": "conda-base-py"
  },
  "language_info": {
   "codemirror_mode": {
    "name": "ipython",
    "version": 3
   },
   "file_extension": ".py",
   "mimetype": "text/x-python",
   "name": "python",
   "nbconvert_exporter": "python",
   "pygments_lexer": "ipython3",
   "version": "3.13.5"
  }
 },
 "nbformat": 4,
 "nbformat_minor": 5
}
